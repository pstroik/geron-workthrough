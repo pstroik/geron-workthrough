{
 "cells": [
  {
   "cell_type": "markdown",
   "metadata": {},
   "source": [
    "## 2025/04/12 - PS - This notebook maintains functions to pull data of various formats"
   ]
  },
  {
   "cell_type": "markdown",
   "metadata": {},
   "source": [
    "### 2025/04/12 - PS - Retrieve tar gzip file from web address and save to user-specified path"
   ]
  },
  {
   "cell_type": "code",
   "execution_count": 1,
   "metadata": {},
   "outputs": [],
   "source": [
    "def fetch_and_extract_tgz_file(data_download_url, data_save_path, file_name):\n",
    "    import os\n",
    "    import urllib\n",
    "    import tarfile\n",
    "\n",
    "    #Make path to store tgz file, download and save.\n",
    "    os.makedirs(data_save_path, exist_ok = True) #Allow overwriting.\n",
    "    tgz_path = os.path.join(data_save_path, file_name) #file_name should end in \".tgz\"\n",
    "    urllib.request.urlretrieve(data_download_url, tgz_path)\n",
    "    \n",
    "    #Open tgz file and extract all within.\n",
    "    tgz_file = tarfile.open(tgz_path) #Open tar file.\n",
    "    tgz_file.extractall(path=data_save_path) #Extract files from tar file and save in same directory.\n",
    "    tgz_file.close() #Close tar file.\n"
   ]
  },
  {
   "cell_type": "markdown",
   "metadata": {},
   "source": [
    "### 2025/04/12 - PS - Retrieve single csv-file data as Pandas DataFrame"
   ]
  },
  {
   "cell_type": "code",
   "execution_count": 2,
   "metadata": {},
   "outputs": [],
   "source": [
    "def load_csv_file_from_path(csv_dir, csv_name):\n",
    "    import pandas as pd\n",
    "\n",
    "    csv_path = os.path.join(csv_dir, csv_name)\n",
    "    return pd.read_csv(csv_path)"
   ]
  },
  {
   "cell_type": "code",
   "execution_count": null,
   "metadata": {},
   "outputs": [],
   "source": []
  }
 ],
 "metadata": {
  "kernelspec": {
   "display_name": "base",
   "language": "python",
   "name": "python3"
  },
  "language_info": {
   "codemirror_mode": {
    "name": "ipython",
    "version": 3
   },
   "file_extension": ".py",
   "mimetype": "text/x-python",
   "name": "python",
   "nbconvert_exporter": "python",
   "pygments_lexer": "ipython3",
   "version": "3.12.7"
  }
 },
 "nbformat": 4,
 "nbformat_minor": 2
}
